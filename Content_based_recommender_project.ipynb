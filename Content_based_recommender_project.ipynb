{
  "nbformat": 4,
  "nbformat_minor": 0,
  "metadata": {
    "colab": {
      "name": "Content based recommender project.ipynb",
      "provenance": [],
      "authorship_tag": "ABX9TyOqBkrpqur+XG04rdmnc7HZ",
      "include_colab_link": true
    },
    "kernelspec": {
      "name": "python3",
      "display_name": "Python 3"
    },
    "language_info": {
      "name": "python"
    }
  },
  "cells": [
    {
      "cell_type": "markdown",
      "metadata": {
        "id": "view-in-github",
        "colab_type": "text"
      },
      "source": [
        "<a href=\"https://colab.research.google.com/github/krlnggrn/EVERY-DAY-MUST-CODING-11/blob/main/Content_based_recommender_project.ipynb\" target=\"_parent\"><img src=\"https://colab.research.google.com/assets/colab-badge.svg\" alt=\"Open In Colab\"/></a>"
      ]
    },
    {
      "cell_type": "markdown",
      "source": [
        "#what is project about?"
      ],
      "metadata": {
        "id": "O0PaywZr5TWi"
      }
    },
    {
      "cell_type": "markdown",
      "source": [
        "Kali ini, kita akan membuat recommender system yang menggunakan:\n",
        "- Content/feature dari film/entitas tersebut, - melakukan perhitungan terhadap kesamaannya satu dan yang lain sehingga ketika kita menunjuk ke satu film, kita akan mendapat beberapa film lain yang memiliki kesamaan dengan film tersebut. (Hal ini biasa kita sebut sebagai Content Based Recommender System)\n",
        "\n",
        "> Dengan membandingkan kesamaan plot yang ada dan genre yang ada, \n",
        "> ketika audience lebih menyukai film Narnia, maka content based recommender system ini akan juga merekomendasikan film seperti Harry Potter atau The Lords of The Rings yang memiliki genre yang mirip"
      ],
      "metadata": {
        "id": "BaBoZaYq5WnP"
      }
    },
    {
      "cell_type": "code",
      "execution_count": 2,
      "metadata": {
        "id": "c8nYgRjd5SRm"
      },
      "outputs": [],
      "source": [
        "\n",
        "import pandas as pd\n",
        "import numpy as np\n",
        "\n",
        "movie_rating_df = pd.read_csv('https://storage.googleapis.com/dqlab-dataset/movie_rating_df.csv ') #untuk menyimpan movie_rating_df.csv"
      ]
    },
    {
      "cell_type": "code",
      "source": [
        "#tampilkan 5 baris teratas dari movive_rating_df\n",
        "print(movie_rating_df.head())\n",
        "\n",
        "#tampilkan info mengenai tipe data dari tiap kolom\n",
        "print(movie_rating_df.info())"
      ],
      "metadata": {
        "colab": {
          "base_uri": "https://localhost:8080/"
        },
        "id": "qplhqsZ56e9W",
        "outputId": "40a9c5df-f6db-4da2-9111-de1bc2c27303"
      },
      "execution_count": 3,
      "outputs": [
        {
          "output_type": "stream",
          "name": "stdout",
          "text": [
            "      tconst titleType            primaryTitle           originalTitle  \\\n",
            "0  tt0000001     short              Carmencita              Carmencita   \n",
            "1  tt0000002     short  Le clown et ses chiens  Le clown et ses chiens   \n",
            "2  tt0000003     short          Pauvre Pierrot          Pauvre Pierrot   \n",
            "3  tt0000004     short             Un bon bock             Un bon bock   \n",
            "4  tt0000005     short        Blacksmith Scene        Blacksmith Scene   \n",
            "\n",
            "   isAdult  startYear  endYear  runtimeMinutes                    genres  \\\n",
            "0        0     1894.0      NaN             1.0         Documentary,Short   \n",
            "1        0     1892.0      NaN             5.0           Animation,Short   \n",
            "2        0     1892.0      NaN             4.0  Animation,Comedy,Romance   \n",
            "3        0     1892.0      NaN            12.0           Animation,Short   \n",
            "4        0     1893.0      NaN             1.0              Comedy,Short   \n",
            "\n",
            "   averageRating  numVotes  \n",
            "0            5.6      1608  \n",
            "1            6.0       197  \n",
            "2            6.5      1285  \n",
            "3            6.1       121  \n",
            "4            6.1      2050  \n",
            "<class 'pandas.core.frame.DataFrame'>\n",
            "RangeIndex: 751614 entries, 0 to 751613\n",
            "Data columns (total 11 columns):\n",
            " #   Column          Non-Null Count   Dtype  \n",
            "---  ------          --------------   -----  \n",
            " 0   tconst          751614 non-null  object \n",
            " 1   titleType       751614 non-null  object \n",
            " 2   primaryTitle    751614 non-null  object \n",
            " 3   originalTitle   751614 non-null  object \n",
            " 4   isAdult         751614 non-null  int64  \n",
            " 5   startYear       751614 non-null  float64\n",
            " 6   endYear         16072 non-null   float64\n",
            " 7   runtimeMinutes  751614 non-null  float64\n",
            " 8   genres          486766 non-null  object \n",
            " 9   averageRating   751614 non-null  float64\n",
            " 10  numVotes        751614 non-null  int64  \n",
            "dtypes: float64(4), int64(2), object(5)\n",
            "memory usage: 63.1+ MB\n",
            "None\n"
          ]
        }
      ]
    },
    {
      "cell_type": "markdown",
      "source": [
        "Dari output yang sudah dihasilkan sebelumnya, kita dapat memperoleh list film dengan beberapa metadata seperti isAdult, runtimeMinutes, dan genres nya\n",
        "\n",
        "To do:\n",
        "- akan menambahkan metadata lain seperti aktor/aktris yang bermain di film tersebut, kita \n",
        "- akan menggunakan dataframe lain kemudian akan melakukan join dengan dataframe movie_rating_df. \n",
        "- dataframe yang berisi directors dan writers dari film."
      ],
      "metadata": {
        "id": "MhRIR6cy69OS"
      }
    },
    {
      "cell_type": "code",
      "source": [
        "actor_name = pd.read_csv('https://storage.googleapis.com/dqlab-dataset/actor_name.csv')\n",
        "director_writers = pd.read_csv('https://storage.googleapis.com/dqlab-dataset/directors_writers.csv')"
      ],
      "metadata": {
        "id": "LpOzZavF7Ivv"
      },
      "execution_count": 4,
      "outputs": []
    },
    {
      "cell_type": "code",
      "source": [
        "\n",
        "director_writers.head(3)"
      ],
      "metadata": {
        "colab": {
          "base_uri": "https://localhost:8080/",
          "height": 187
        },
        "id": "bLbggrpL9PBV",
        "outputId": "144006a1-7ec2-4807-90e5-76bdfd48ce5a"
      },
      "execution_count": 5,
      "outputs": [
        {
          "output_type": "execute_result",
          "data": {
            "text/plain": [
              "      tconst                   director_name  \\\n",
              "0  tt0011414                  David Kirkland   \n",
              "1  tt0011890               Roy William Neill   \n",
              "2  tt0014341  Buster Keaton,John G. Blystone   \n",
              "\n",
              "                                       writer_name  \n",
              "0                          John Emerson,Anita Loos  \n",
              "1     Arthur F. Goodrich,Burns Mantle,Mary Murillo  \n",
              "2  Jean C. Havez,Clyde Bruckman,Joseph A. Mitchell  "
            ],
            "text/html": [
              "\n",
              "  <div id=\"df-3df4d278-82ea-476b-83d7-1d5862d948a0\">\n",
              "    <div class=\"colab-df-container\">\n",
              "      <div>\n",
              "<style scoped>\n",
              "    .dataframe tbody tr th:only-of-type {\n",
              "        vertical-align: middle;\n",
              "    }\n",
              "\n",
              "    .dataframe tbody tr th {\n",
              "        vertical-align: top;\n",
              "    }\n",
              "\n",
              "    .dataframe thead th {\n",
              "        text-align: right;\n",
              "    }\n",
              "</style>\n",
              "<table border=\"1\" class=\"dataframe\">\n",
              "  <thead>\n",
              "    <tr style=\"text-align: right;\">\n",
              "      <th></th>\n",
              "      <th>tconst</th>\n",
              "      <th>director_name</th>\n",
              "      <th>writer_name</th>\n",
              "    </tr>\n",
              "  </thead>\n",
              "  <tbody>\n",
              "    <tr>\n",
              "      <th>0</th>\n",
              "      <td>tt0011414</td>\n",
              "      <td>David Kirkland</td>\n",
              "      <td>John Emerson,Anita Loos</td>\n",
              "    </tr>\n",
              "    <tr>\n",
              "      <th>1</th>\n",
              "      <td>tt0011890</td>\n",
              "      <td>Roy William Neill</td>\n",
              "      <td>Arthur F. Goodrich,Burns Mantle,Mary Murillo</td>\n",
              "    </tr>\n",
              "    <tr>\n",
              "      <th>2</th>\n",
              "      <td>tt0014341</td>\n",
              "      <td>Buster Keaton,John G. Blystone</td>\n",
              "      <td>Jean C. Havez,Clyde Bruckman,Joseph A. Mitchell</td>\n",
              "    </tr>\n",
              "  </tbody>\n",
              "</table>\n",
              "</div>\n",
              "      <button class=\"colab-df-convert\" onclick=\"convertToInteractive('df-3df4d278-82ea-476b-83d7-1d5862d948a0')\"\n",
              "              title=\"Convert this dataframe to an interactive table.\"\n",
              "              style=\"display:none;\">\n",
              "        \n",
              "  <svg xmlns=\"http://www.w3.org/2000/svg\" height=\"24px\"viewBox=\"0 0 24 24\"\n",
              "       width=\"24px\">\n",
              "    <path d=\"M0 0h24v24H0V0z\" fill=\"none\"/>\n",
              "    <path d=\"M18.56 5.44l.94 2.06.94-2.06 2.06-.94-2.06-.94-.94-2.06-.94 2.06-2.06.94zm-11 1L8.5 8.5l.94-2.06 2.06-.94-2.06-.94L8.5 2.5l-.94 2.06-2.06.94zm10 10l.94 2.06.94-2.06 2.06-.94-2.06-.94-.94-2.06-.94 2.06-2.06.94z\"/><path d=\"M17.41 7.96l-1.37-1.37c-.4-.4-.92-.59-1.43-.59-.52 0-1.04.2-1.43.59L10.3 9.45l-7.72 7.72c-.78.78-.78 2.05 0 2.83L4 21.41c.39.39.9.59 1.41.59.51 0 1.02-.2 1.41-.59l7.78-7.78 2.81-2.81c.8-.78.8-2.07 0-2.86zM5.41 20L4 18.59l7.72-7.72 1.47 1.35L5.41 20z\"/>\n",
              "  </svg>\n",
              "      </button>\n",
              "      \n",
              "  <style>\n",
              "    .colab-df-container {\n",
              "      display:flex;\n",
              "      flex-wrap:wrap;\n",
              "      gap: 12px;\n",
              "    }\n",
              "\n",
              "    .colab-df-convert {\n",
              "      background-color: #E8F0FE;\n",
              "      border: none;\n",
              "      border-radius: 50%;\n",
              "      cursor: pointer;\n",
              "      display: none;\n",
              "      fill: #1967D2;\n",
              "      height: 32px;\n",
              "      padding: 0 0 0 0;\n",
              "      width: 32px;\n",
              "    }\n",
              "\n",
              "    .colab-df-convert:hover {\n",
              "      background-color: #E2EBFA;\n",
              "      box-shadow: 0px 1px 2px rgba(60, 64, 67, 0.3), 0px 1px 3px 1px rgba(60, 64, 67, 0.15);\n",
              "      fill: #174EA6;\n",
              "    }\n",
              "\n",
              "    [theme=dark] .colab-df-convert {\n",
              "      background-color: #3B4455;\n",
              "      fill: #D2E3FC;\n",
              "    }\n",
              "\n",
              "    [theme=dark] .colab-df-convert:hover {\n",
              "      background-color: #434B5C;\n",
              "      box-shadow: 0px 1px 3px 1px rgba(0, 0, 0, 0.15);\n",
              "      filter: drop-shadow(0px 1px 2px rgba(0, 0, 0, 0.3));\n",
              "      fill: #FFFFFF;\n",
              "    }\n",
              "  </style>\n",
              "\n",
              "      <script>\n",
              "        const buttonEl =\n",
              "          document.querySelector('#df-3df4d278-82ea-476b-83d7-1d5862d948a0 button.colab-df-convert');\n",
              "        buttonEl.style.display =\n",
              "          google.colab.kernel.accessAllowed ? 'block' : 'none';\n",
              "\n",
              "        async function convertToInteractive(key) {\n",
              "          const element = document.querySelector('#df-3df4d278-82ea-476b-83d7-1d5862d948a0');\n",
              "          const dataTable =\n",
              "            await google.colab.kernel.invokeFunction('convertToInteractive',\n",
              "                                                     [key], {});\n",
              "          if (!dataTable) return;\n",
              "\n",
              "          const docLinkHtml = 'Like what you see? Visit the ' +\n",
              "            '<a target=\"_blank\" href=https://colab.research.google.com/notebooks/data_table.ipynb>data table notebook</a>'\n",
              "            + ' to learn more about interactive tables.';\n",
              "          element.innerHTML = '';\n",
              "          dataTable['output_type'] = 'display_data';\n",
              "          await google.colab.output.renderOutput(dataTable, element);\n",
              "          const docLink = document.createElement('div');\n",
              "          docLink.innerHTML = docLinkHtml;\n",
              "          element.appendChild(docLink);\n",
              "        }\n",
              "      </script>\n",
              "    </div>\n",
              "  </div>\n",
              "  "
            ]
          },
          "metadata": {},
          "execution_count": 5
        }
      ]
    },
    {
      "cell_type": "code",
      "source": [
        "actor_name.head(3)"
      ],
      "metadata": {
        "colab": {
          "base_uri": "https://localhost:8080/",
          "height": 242
        },
        "id": "6mrDWP3Q9au8",
        "outputId": "d4622c7d-8d0c-4cb6-e79c-e1f3aa6bb509"
      },
      "execution_count": 6,
      "outputs": [
        {
          "output_type": "execute_result",
          "data": {
            "text/plain": [
              "       nconst        primaryName birthYear deathYear  \\\n",
              "0   nm1774132  Nathan McLaughlin      1973        \\N   \n",
              "1  nm10683464      Bridge Andrew        \\N        \\N   \n",
              "2   nm1021485  Brandon Fransvaag        \\N        \\N   \n",
              "\n",
              "                    primaryProfession                           knownForTitles  \n",
              "0  special_effects,make_up_department  tt0417686,tt1713976,tt1891860,tt0454839  \n",
              "1                               actor                                tt7718088  \n",
              "2                       miscellaneous                                tt0168790  "
            ],
            "text/html": [
              "\n",
              "  <div id=\"df-6c838b07-b0e8-4b61-9be2-0e81f96eb827\">\n",
              "    <div class=\"colab-df-container\">\n",
              "      <div>\n",
              "<style scoped>\n",
              "    .dataframe tbody tr th:only-of-type {\n",
              "        vertical-align: middle;\n",
              "    }\n",
              "\n",
              "    .dataframe tbody tr th {\n",
              "        vertical-align: top;\n",
              "    }\n",
              "\n",
              "    .dataframe thead th {\n",
              "        text-align: right;\n",
              "    }\n",
              "</style>\n",
              "<table border=\"1\" class=\"dataframe\">\n",
              "  <thead>\n",
              "    <tr style=\"text-align: right;\">\n",
              "      <th></th>\n",
              "      <th>nconst</th>\n",
              "      <th>primaryName</th>\n",
              "      <th>birthYear</th>\n",
              "      <th>deathYear</th>\n",
              "      <th>primaryProfession</th>\n",
              "      <th>knownForTitles</th>\n",
              "    </tr>\n",
              "  </thead>\n",
              "  <tbody>\n",
              "    <tr>\n",
              "      <th>0</th>\n",
              "      <td>nm1774132</td>\n",
              "      <td>Nathan McLaughlin</td>\n",
              "      <td>1973</td>\n",
              "      <td>\\N</td>\n",
              "      <td>special_effects,make_up_department</td>\n",
              "      <td>tt0417686,tt1713976,tt1891860,tt0454839</td>\n",
              "    </tr>\n",
              "    <tr>\n",
              "      <th>1</th>\n",
              "      <td>nm10683464</td>\n",
              "      <td>Bridge Andrew</td>\n",
              "      <td>\\N</td>\n",
              "      <td>\\N</td>\n",
              "      <td>actor</td>\n",
              "      <td>tt7718088</td>\n",
              "    </tr>\n",
              "    <tr>\n",
              "      <th>2</th>\n",
              "      <td>nm1021485</td>\n",
              "      <td>Brandon Fransvaag</td>\n",
              "      <td>\\N</td>\n",
              "      <td>\\N</td>\n",
              "      <td>miscellaneous</td>\n",
              "      <td>tt0168790</td>\n",
              "    </tr>\n",
              "  </tbody>\n",
              "</table>\n",
              "</div>\n",
              "      <button class=\"colab-df-convert\" onclick=\"convertToInteractive('df-6c838b07-b0e8-4b61-9be2-0e81f96eb827')\"\n",
              "              title=\"Convert this dataframe to an interactive table.\"\n",
              "              style=\"display:none;\">\n",
              "        \n",
              "  <svg xmlns=\"http://www.w3.org/2000/svg\" height=\"24px\"viewBox=\"0 0 24 24\"\n",
              "       width=\"24px\">\n",
              "    <path d=\"M0 0h24v24H0V0z\" fill=\"none\"/>\n",
              "    <path d=\"M18.56 5.44l.94 2.06.94-2.06 2.06-.94-2.06-.94-.94-2.06-.94 2.06-2.06.94zm-11 1L8.5 8.5l.94-2.06 2.06-.94-2.06-.94L8.5 2.5l-.94 2.06-2.06.94zm10 10l.94 2.06.94-2.06 2.06-.94-2.06-.94-.94-2.06-.94 2.06-2.06.94z\"/><path d=\"M17.41 7.96l-1.37-1.37c-.4-.4-.92-.59-1.43-.59-.52 0-1.04.2-1.43.59L10.3 9.45l-7.72 7.72c-.78.78-.78 2.05 0 2.83L4 21.41c.39.39.9.59 1.41.59.51 0 1.02-.2 1.41-.59l7.78-7.78 2.81-2.81c.8-.78.8-2.07 0-2.86zM5.41 20L4 18.59l7.72-7.72 1.47 1.35L5.41 20z\"/>\n",
              "  </svg>\n",
              "      </button>\n",
              "      \n",
              "  <style>\n",
              "    .colab-df-container {\n",
              "      display:flex;\n",
              "      flex-wrap:wrap;\n",
              "      gap: 12px;\n",
              "    }\n",
              "\n",
              "    .colab-df-convert {\n",
              "      background-color: #E8F0FE;\n",
              "      border: none;\n",
              "      border-radius: 50%;\n",
              "      cursor: pointer;\n",
              "      display: none;\n",
              "      fill: #1967D2;\n",
              "      height: 32px;\n",
              "      padding: 0 0 0 0;\n",
              "      width: 32px;\n",
              "    }\n",
              "\n",
              "    .colab-df-convert:hover {\n",
              "      background-color: #E2EBFA;\n",
              "      box-shadow: 0px 1px 2px rgba(60, 64, 67, 0.3), 0px 1px 3px 1px rgba(60, 64, 67, 0.15);\n",
              "      fill: #174EA6;\n",
              "    }\n",
              "\n",
              "    [theme=dark] .colab-df-convert {\n",
              "      background-color: #3B4455;\n",
              "      fill: #D2E3FC;\n",
              "    }\n",
              "\n",
              "    [theme=dark] .colab-df-convert:hover {\n",
              "      background-color: #434B5C;\n",
              "      box-shadow: 0px 1px 3px 1px rgba(0, 0, 0, 0.15);\n",
              "      filter: drop-shadow(0px 1px 2px rgba(0, 0, 0, 0.3));\n",
              "      fill: #FFFFFF;\n",
              "    }\n",
              "  </style>\n",
              "\n",
              "      <script>\n",
              "        const buttonEl =\n",
              "          document.querySelector('#df-6c838b07-b0e8-4b61-9be2-0e81f96eb827 button.colab-df-convert');\n",
              "        buttonEl.style.display =\n",
              "          google.colab.kernel.accessAllowed ? 'block' : 'none';\n",
              "\n",
              "        async function convertToInteractive(key) {\n",
              "          const element = document.querySelector('#df-6c838b07-b0e8-4b61-9be2-0e81f96eb827');\n",
              "          const dataTable =\n",
              "            await google.colab.kernel.invokeFunction('convertToInteractive',\n",
              "                                                     [key], {});\n",
              "          if (!dataTable) return;\n",
              "\n",
              "          const docLinkHtml = 'Like what you see? Visit the ' +\n",
              "            '<a target=\"_blank\" href=https://colab.research.google.com/notebooks/data_table.ipynb>data table notebook</a>'\n",
              "            + ' to learn more about interactive tables.';\n",
              "          element.innerHTML = '';\n",
              "          dataTable['output_type'] = 'display_data';\n",
              "          await google.colab.output.renderOutput(dataTable, element);\n",
              "          const docLink = document.createElement('div');\n",
              "          docLink.innerHTML = docLinkHtml;\n",
              "          element.appendChild(docLink);\n",
              "        }\n",
              "      </script>\n",
              "    </div>\n",
              "  </div>\n",
              "  "
            ]
          },
          "metadata": {},
          "execution_count": 6
        }
      ]
    },
    {
      "cell_type": "markdown",
      "source": [
        "## convert into list"
      ],
      "metadata": {
        "id": "cR9EWk1WcMTD"
      }
    },
    {
      "cell_type": "markdown",
      "source": [
        "ubah actor name dan director writer dr str menjadi list"
      ],
      "metadata": {
        "id": "zstQ2wey8RTo"
      }
    },
    {
      "cell_type": "code",
      "source": [
        "director_writers['director_name'] = director_writers['director_name'].apply(lambda row: row.split(','))\n",
        "director_writers['writer_name'] = director_writers['writer_name'].apply(lambda row: row.split(','))\n",
        "print(director_writers.head())"
      ],
      "metadata": {
        "colab": {
          "base_uri": "https://localhost:8080/"
        },
        "id": "qL_Cvtai8Pcu",
        "outputId": "003b27d1-75f7-48b3-c4e7-57c61f743e8c"
      },
      "execution_count": 7,
      "outputs": [
        {
          "output_type": "stream",
          "name": "stdout",
          "text": [
            "      tconst                      director_name  \\\n",
            "0  tt0011414                   [David Kirkland]   \n",
            "1  tt0011890                [Roy William Neill]   \n",
            "2  tt0014341  [Buster Keaton, John G. Blystone]   \n",
            "3  tt0018054                 [Cecil B. DeMille]   \n",
            "4  tt0024151                      [James Cruze]   \n",
            "\n",
            "                                         writer_name  \n",
            "0                         [John Emerson, Anita Loos]  \n",
            "1   [Arthur F. Goodrich, Burns Mantle, Mary Murillo]  \n",
            "2  [Jean C. Havez, Clyde Bruckman, Joseph A. Mitc...  \n",
            "3                                [Jeanie Macpherson]  \n",
            "4               [Max Miller, Wells Root, Jack Jevne]  \n"
          ]
        }
      ]
    },
    {
      "cell_type": "code",
      "source": [
        "name_df = pd.read_csv('https://storage.googleapis.com/dqlab-dataset/actor_name.csv')"
      ],
      "metadata": {
        "id": "xmyoPnWr-G4V"
      },
      "execution_count": 8,
      "outputs": []
    },
    {
      "cell_type": "code",
      "source": [
        "name_df.head()"
      ],
      "metadata": {
        "colab": {
          "base_uri": "https://localhost:8080/",
          "height": 340
        },
        "id": "Wfdc4rh5-M9c",
        "outputId": "1c9d9194-bd46-4463-b626-ca4a09c80d34"
      },
      "execution_count": 9,
      "outputs": [
        {
          "output_type": "execute_result",
          "data": {
            "text/plain": [
              "       nconst          primaryName birthYear deathYear  \\\n",
              "0   nm1774132    Nathan McLaughlin      1973        \\N   \n",
              "1  nm10683464        Bridge Andrew        \\N        \\N   \n",
              "2   nm1021485    Brandon Fransvaag        \\N        \\N   \n",
              "3   nm6940929   Erwin van der Lely        \\N        \\N   \n",
              "4   nm5764974  Svetlana Shypitsyna        \\N        \\N   \n",
              "\n",
              "                    primaryProfession                           knownForTitles  \n",
              "0  special_effects,make_up_department  tt0417686,tt1713976,tt1891860,tt0454839  \n",
              "1                               actor                                tt7718088  \n",
              "2                       miscellaneous                                tt0168790  \n",
              "3                       miscellaneous                                tt4232168  \n",
              "4                             actress                                tt3014168  "
            ],
            "text/html": [
              "\n",
              "  <div id=\"df-f75fe89d-5c8f-462b-a476-08c229393f58\">\n",
              "    <div class=\"colab-df-container\">\n",
              "      <div>\n",
              "<style scoped>\n",
              "    .dataframe tbody tr th:only-of-type {\n",
              "        vertical-align: middle;\n",
              "    }\n",
              "\n",
              "    .dataframe tbody tr th {\n",
              "        vertical-align: top;\n",
              "    }\n",
              "\n",
              "    .dataframe thead th {\n",
              "        text-align: right;\n",
              "    }\n",
              "</style>\n",
              "<table border=\"1\" class=\"dataframe\">\n",
              "  <thead>\n",
              "    <tr style=\"text-align: right;\">\n",
              "      <th></th>\n",
              "      <th>nconst</th>\n",
              "      <th>primaryName</th>\n",
              "      <th>birthYear</th>\n",
              "      <th>deathYear</th>\n",
              "      <th>primaryProfession</th>\n",
              "      <th>knownForTitles</th>\n",
              "    </tr>\n",
              "  </thead>\n",
              "  <tbody>\n",
              "    <tr>\n",
              "      <th>0</th>\n",
              "      <td>nm1774132</td>\n",
              "      <td>Nathan McLaughlin</td>\n",
              "      <td>1973</td>\n",
              "      <td>\\N</td>\n",
              "      <td>special_effects,make_up_department</td>\n",
              "      <td>tt0417686,tt1713976,tt1891860,tt0454839</td>\n",
              "    </tr>\n",
              "    <tr>\n",
              "      <th>1</th>\n",
              "      <td>nm10683464</td>\n",
              "      <td>Bridge Andrew</td>\n",
              "      <td>\\N</td>\n",
              "      <td>\\N</td>\n",
              "      <td>actor</td>\n",
              "      <td>tt7718088</td>\n",
              "    </tr>\n",
              "    <tr>\n",
              "      <th>2</th>\n",
              "      <td>nm1021485</td>\n",
              "      <td>Brandon Fransvaag</td>\n",
              "      <td>\\N</td>\n",
              "      <td>\\N</td>\n",
              "      <td>miscellaneous</td>\n",
              "      <td>tt0168790</td>\n",
              "    </tr>\n",
              "    <tr>\n",
              "      <th>3</th>\n",
              "      <td>nm6940929</td>\n",
              "      <td>Erwin van der Lely</td>\n",
              "      <td>\\N</td>\n",
              "      <td>\\N</td>\n",
              "      <td>miscellaneous</td>\n",
              "      <td>tt4232168</td>\n",
              "    </tr>\n",
              "    <tr>\n",
              "      <th>4</th>\n",
              "      <td>nm5764974</td>\n",
              "      <td>Svetlana Shypitsyna</td>\n",
              "      <td>\\N</td>\n",
              "      <td>\\N</td>\n",
              "      <td>actress</td>\n",
              "      <td>tt3014168</td>\n",
              "    </tr>\n",
              "  </tbody>\n",
              "</table>\n",
              "</div>\n",
              "      <button class=\"colab-df-convert\" onclick=\"convertToInteractive('df-f75fe89d-5c8f-462b-a476-08c229393f58')\"\n",
              "              title=\"Convert this dataframe to an interactive table.\"\n",
              "              style=\"display:none;\">\n",
              "        \n",
              "  <svg xmlns=\"http://www.w3.org/2000/svg\" height=\"24px\"viewBox=\"0 0 24 24\"\n",
              "       width=\"24px\">\n",
              "    <path d=\"M0 0h24v24H0V0z\" fill=\"none\"/>\n",
              "    <path d=\"M18.56 5.44l.94 2.06.94-2.06 2.06-.94-2.06-.94-.94-2.06-.94 2.06-2.06.94zm-11 1L8.5 8.5l.94-2.06 2.06-.94-2.06-.94L8.5 2.5l-.94 2.06-2.06.94zm10 10l.94 2.06.94-2.06 2.06-.94-2.06-.94-.94-2.06-.94 2.06-2.06.94z\"/><path d=\"M17.41 7.96l-1.37-1.37c-.4-.4-.92-.59-1.43-.59-.52 0-1.04.2-1.43.59L10.3 9.45l-7.72 7.72c-.78.78-.78 2.05 0 2.83L4 21.41c.39.39.9.59 1.41.59.51 0 1.02-.2 1.41-.59l7.78-7.78 2.81-2.81c.8-.78.8-2.07 0-2.86zM5.41 20L4 18.59l7.72-7.72 1.47 1.35L5.41 20z\"/>\n",
              "  </svg>\n",
              "      </button>\n",
              "      \n",
              "  <style>\n",
              "    .colab-df-container {\n",
              "      display:flex;\n",
              "      flex-wrap:wrap;\n",
              "      gap: 12px;\n",
              "    }\n",
              "\n",
              "    .colab-df-convert {\n",
              "      background-color: #E8F0FE;\n",
              "      border: none;\n",
              "      border-radius: 50%;\n",
              "      cursor: pointer;\n",
              "      display: none;\n",
              "      fill: #1967D2;\n",
              "      height: 32px;\n",
              "      padding: 0 0 0 0;\n",
              "      width: 32px;\n",
              "    }\n",
              "\n",
              "    .colab-df-convert:hover {\n",
              "      background-color: #E2EBFA;\n",
              "      box-shadow: 0px 1px 2px rgba(60, 64, 67, 0.3), 0px 1px 3px 1px rgba(60, 64, 67, 0.15);\n",
              "      fill: #174EA6;\n",
              "    }\n",
              "\n",
              "    [theme=dark] .colab-df-convert {\n",
              "      background-color: #3B4455;\n",
              "      fill: #D2E3FC;\n",
              "    }\n",
              "\n",
              "    [theme=dark] .colab-df-convert:hover {\n",
              "      background-color: #434B5C;\n",
              "      box-shadow: 0px 1px 3px 1px rgba(0, 0, 0, 0.15);\n",
              "      filter: drop-shadow(0px 1px 2px rgba(0, 0, 0, 0.3));\n",
              "      fill: #FFFFFF;\n",
              "    }\n",
              "  </style>\n",
              "\n",
              "      <script>\n",
              "        const buttonEl =\n",
              "          document.querySelector('#df-f75fe89d-5c8f-462b-a476-08c229393f58 button.colab-df-convert');\n",
              "        buttonEl.style.display =\n",
              "          google.colab.kernel.accessAllowed ? 'block' : 'none';\n",
              "\n",
              "        async function convertToInteractive(key) {\n",
              "          const element = document.querySelector('#df-f75fe89d-5c8f-462b-a476-08c229393f58');\n",
              "          const dataTable =\n",
              "            await google.colab.kernel.invokeFunction('convertToInteractive',\n",
              "                                                     [key], {});\n",
              "          if (!dataTable) return;\n",
              "\n",
              "          const docLinkHtml = 'Like what you see? Visit the ' +\n",
              "            '<a target=\"_blank\" href=https://colab.research.google.com/notebooks/data_table.ipynb>data table notebook</a>'\n",
              "            + ' to learn more about interactive tables.';\n",
              "          element.innerHTML = '';\n",
              "          dataTable['output_type'] = 'display_data';\n",
              "          await google.colab.output.renderOutput(dataTable, element);\n",
              "          const docLink = document.createElement('div');\n",
              "          docLink.innerHTML = docLinkHtml;\n",
              "          element.appendChild(docLink);\n",
              "        }\n",
              "      </script>\n",
              "    </div>\n",
              "  </div>\n",
              "  "
            ]
          },
          "metadata": {},
          "execution_count": 9
        }
      ]
    },
    {
      "cell_type": "markdown",
      "source": [
        "## update name_df"
      ],
      "metadata": {
        "id": "i0evC9DgdHhJ"
      }
    },
    {
      "cell_type": "code",
      "source": [
        "#hanya membutuhkan kolom nconst, primaryName, dan knownForTitles\n",
        "name_df = name_df[['nconst','primaryName','knownForTitles']]\n",
        "\n",
        "print(name_df.head())"
      ],
      "metadata": {
        "colab": {
          "base_uri": "https://localhost:8080/"
        },
        "id": "jSK0UGFN97rY",
        "outputId": "a78d5420-d89f-4c17-f091-e51d29f05f6c"
      },
      "execution_count": 10,
      "outputs": [
        {
          "output_type": "stream",
          "name": "stdout",
          "text": [
            "       nconst          primaryName                           knownForTitles\n",
            "0   nm1774132    Nathan McLaughlin  tt0417686,tt1713976,tt1891860,tt0454839\n",
            "1  nm10683464        Bridge Andrew                                tt7718088\n",
            "2   nm1021485    Brandon Fransvaag                                tt0168790\n",
            "3   nm6940929   Erwin van der Lely                                tt4232168\n",
            "4   nm5764974  Svetlana Shypitsyna                                tt3014168\n"
          ]
        }
      ]
    },
    {
      "cell_type": "markdown",
      "source": [
        "## movies per actor"
      ],
      "metadata": {
        "id": "YNOp2qJudMzg"
      }
    },
    {
      "cell_type": "markdown",
      "source": [
        "Hal selanjutnya yang ingin diketahui adalah mengenai variasi dari jumlah film yang dapat dibintangi oleh seorang aktor.\n",
        "\n",
        "Tentunya seorang aktor dapat membintangi lebih dari 1 film, maka akan diperlukan untuk membuat table yang mempunyai relasi 1-1 ke masing-masing title movie tersebut. Kita akan melakukan unnest terhadap table tersebut. \n",
        "\n",
        "To do =\n",
        "\n",
        "1. Melakukan pengecekan variasi jumlah film yang dibintangi oleh aktor.\n",
        "2. Mengubah kolom 'knownForTitles' menjadi list of list."
      ],
      "metadata": {
        "id": "zuwsKV-H-kMi"
      }
    },
    {
      "cell_type": "code",
      "source": [
        "#pengecekan variasi\n",
        "print(name_df['knownForTitles'].apply(lambda x: len(x.split(','))).unique())\n",
        "\n",
        "#ubah knownfortitles menjadi list of list\n",
        "name_df['knownForTitles'] = name_df['knownForTitles'].apply(lambda x: x.split(','))\n",
        "\n",
        "name_df.head()"
      ],
      "metadata": {
        "colab": {
          "base_uri": "https://localhost:8080/",
          "height": 224
        },
        "id": "0ZKsi7jk-sFS",
        "outputId": "2cc8ad90-0953-41b6-96fe-a44925010de8"
      },
      "execution_count": 11,
      "outputs": [
        {
          "output_type": "stream",
          "name": "stdout",
          "text": [
            "[4 1 2 3]\n"
          ]
        },
        {
          "output_type": "execute_result",
          "data": {
            "text/plain": [
              "       nconst          primaryName  \\\n",
              "0   nm1774132    Nathan McLaughlin   \n",
              "1  nm10683464        Bridge Andrew   \n",
              "2   nm1021485    Brandon Fransvaag   \n",
              "3   nm6940929   Erwin van der Lely   \n",
              "4   nm5764974  Svetlana Shypitsyna   \n",
              "\n",
              "                                 knownForTitles  \n",
              "0  [tt0417686, tt1713976, tt1891860, tt0454839]  \n",
              "1                                   [tt7718088]  \n",
              "2                                   [tt0168790]  \n",
              "3                                   [tt4232168]  \n",
              "4                                   [tt3014168]  "
            ],
            "text/html": [
              "\n",
              "  <div id=\"df-8ece84dc-602d-4c9a-94d8-a2122a530689\">\n",
              "    <div class=\"colab-df-container\">\n",
              "      <div>\n",
              "<style scoped>\n",
              "    .dataframe tbody tr th:only-of-type {\n",
              "        vertical-align: middle;\n",
              "    }\n",
              "\n",
              "    .dataframe tbody tr th {\n",
              "        vertical-align: top;\n",
              "    }\n",
              "\n",
              "    .dataframe thead th {\n",
              "        text-align: right;\n",
              "    }\n",
              "</style>\n",
              "<table border=\"1\" class=\"dataframe\">\n",
              "  <thead>\n",
              "    <tr style=\"text-align: right;\">\n",
              "      <th></th>\n",
              "      <th>nconst</th>\n",
              "      <th>primaryName</th>\n",
              "      <th>knownForTitles</th>\n",
              "    </tr>\n",
              "  </thead>\n",
              "  <tbody>\n",
              "    <tr>\n",
              "      <th>0</th>\n",
              "      <td>nm1774132</td>\n",
              "      <td>Nathan McLaughlin</td>\n",
              "      <td>[tt0417686, tt1713976, tt1891860, tt0454839]</td>\n",
              "    </tr>\n",
              "    <tr>\n",
              "      <th>1</th>\n",
              "      <td>nm10683464</td>\n",
              "      <td>Bridge Andrew</td>\n",
              "      <td>[tt7718088]</td>\n",
              "    </tr>\n",
              "    <tr>\n",
              "      <th>2</th>\n",
              "      <td>nm1021485</td>\n",
              "      <td>Brandon Fransvaag</td>\n",
              "      <td>[tt0168790]</td>\n",
              "    </tr>\n",
              "    <tr>\n",
              "      <th>3</th>\n",
              "      <td>nm6940929</td>\n",
              "      <td>Erwin van der Lely</td>\n",
              "      <td>[tt4232168]</td>\n",
              "    </tr>\n",
              "    <tr>\n",
              "      <th>4</th>\n",
              "      <td>nm5764974</td>\n",
              "      <td>Svetlana Shypitsyna</td>\n",
              "      <td>[tt3014168]</td>\n",
              "    </tr>\n",
              "  </tbody>\n",
              "</table>\n",
              "</div>\n",
              "      <button class=\"colab-df-convert\" onclick=\"convertToInteractive('df-8ece84dc-602d-4c9a-94d8-a2122a530689')\"\n",
              "              title=\"Convert this dataframe to an interactive table.\"\n",
              "              style=\"display:none;\">\n",
              "        \n",
              "  <svg xmlns=\"http://www.w3.org/2000/svg\" height=\"24px\"viewBox=\"0 0 24 24\"\n",
              "       width=\"24px\">\n",
              "    <path d=\"M0 0h24v24H0V0z\" fill=\"none\"/>\n",
              "    <path d=\"M18.56 5.44l.94 2.06.94-2.06 2.06-.94-2.06-.94-.94-2.06-.94 2.06-2.06.94zm-11 1L8.5 8.5l.94-2.06 2.06-.94-2.06-.94L8.5 2.5l-.94 2.06-2.06.94zm10 10l.94 2.06.94-2.06 2.06-.94-2.06-.94-.94-2.06-.94 2.06-2.06.94z\"/><path d=\"M17.41 7.96l-1.37-1.37c-.4-.4-.92-.59-1.43-.59-.52 0-1.04.2-1.43.59L10.3 9.45l-7.72 7.72c-.78.78-.78 2.05 0 2.83L4 21.41c.39.39.9.59 1.41.59.51 0 1.02-.2 1.41-.59l7.78-7.78 2.81-2.81c.8-.78.8-2.07 0-2.86zM5.41 20L4 18.59l7.72-7.72 1.47 1.35L5.41 20z\"/>\n",
              "  </svg>\n",
              "      </button>\n",
              "      \n",
              "  <style>\n",
              "    .colab-df-container {\n",
              "      display:flex;\n",
              "      flex-wrap:wrap;\n",
              "      gap: 12px;\n",
              "    }\n",
              "\n",
              "    .colab-df-convert {\n",
              "      background-color: #E8F0FE;\n",
              "      border: none;\n",
              "      border-radius: 50%;\n",
              "      cursor: pointer;\n",
              "      display: none;\n",
              "      fill: #1967D2;\n",
              "      height: 32px;\n",
              "      padding: 0 0 0 0;\n",
              "      width: 32px;\n",
              "    }\n",
              "\n",
              "    .colab-df-convert:hover {\n",
              "      background-color: #E2EBFA;\n",
              "      box-shadow: 0px 1px 2px rgba(60, 64, 67, 0.3), 0px 1px 3px 1px rgba(60, 64, 67, 0.15);\n",
              "      fill: #174EA6;\n",
              "    }\n",
              "\n",
              "    [theme=dark] .colab-df-convert {\n",
              "      background-color: #3B4455;\n",
              "      fill: #D2E3FC;\n",
              "    }\n",
              "\n",
              "    [theme=dark] .colab-df-convert:hover {\n",
              "      background-color: #434B5C;\n",
              "      box-shadow: 0px 1px 3px 1px rgba(0, 0, 0, 0.15);\n",
              "      filter: drop-shadow(0px 1px 2px rgba(0, 0, 0, 0.3));\n",
              "      fill: #FFFFFF;\n",
              "    }\n",
              "  </style>\n",
              "\n",
              "      <script>\n",
              "        const buttonEl =\n",
              "          document.querySelector('#df-8ece84dc-602d-4c9a-94d8-a2122a530689 button.colab-df-convert');\n",
              "        buttonEl.style.display =\n",
              "          google.colab.kernel.accessAllowed ? 'block' : 'none';\n",
              "\n",
              "        async function convertToInteractive(key) {\n",
              "          const element = document.querySelector('#df-8ece84dc-602d-4c9a-94d8-a2122a530689');\n",
              "          const dataTable =\n",
              "            await google.colab.kernel.invokeFunction('convertToInteractive',\n",
              "                                                     [key], {});\n",
              "          if (!dataTable) return;\n",
              "\n",
              "          const docLinkHtml = 'Like what you see? Visit the ' +\n",
              "            '<a target=\"_blank\" href=https://colab.research.google.com/notebooks/data_table.ipynb>data table notebook</a>'\n",
              "            + ' to learn more about interactive tables.';\n",
              "          element.innerHTML = '';\n",
              "          dataTable['output_type'] = 'display_data';\n",
              "          await google.colab.output.renderOutput(dataTable, element);\n",
              "          const docLink = document.createElement('div');\n",
              "          docLink.innerHTML = docLinkHtml;\n",
              "          element.appendChild(docLink);\n",
              "        }\n",
              "      </script>\n",
              "    </div>\n",
              "  </div>\n",
              "  "
            ]
          },
          "metadata": {},
          "execution_count": 11
        }
      ]
    },
    {
      "cell_type": "markdown",
      "source": [
        "## korespondensi 1-1"
      ],
      "metadata": {
        "id": "zQ3Ehlx5dWGB"
      }
    },
    {
      "cell_type": "markdown",
      "source": [
        "\n",
        "Karena pada data sebelumnya dapat dilihat bahwa seorang aktor dapat membintangi 1 sampai 4 film, diperlukan untuk membuat table yang mempunyai relasi 1-1 dari aktor ke masing-masing title movie tersebut. \n",
        "\n"
      ],
      "metadata": {
        "id": "Qczd-iM6ATEg"
      }
    },
    {
      "cell_type": "code",
      "source": [
        "#menyiapkan bucket untuk dataframe\n",
        "df_uni = []\n",
        "\n",
        "for x in ['knownForTitles']:\n",
        "    #mengulang index dari tiap baris sampai tiap elemen dari knownForTitles\n",
        "    idx = name_df.index.repeat(name_df['knownForTitles'].str.len())\n",
        "   \n",
        "   #memecah values dari list di setiap baris dan menggabungkan nya dengan rows lain menjadi dataframe\n",
        "    df1 = pd.DataFrame({\n",
        "        x: np.concatenate(name_df[x].values)\n",
        "    })\n",
        "    \n",
        "    #mengganti index dataframe tersebut dengan idx yang sudah kita define di awal\n",
        "    df1.index = idx\n",
        "    #untuk setiap dataframe yang terbentuk, kita append ke dataframe bucket\n",
        "    df_uni.append(df1)\n",
        "    \n",
        "#menggabungkan semua dataframe menjadi satu\n",
        "df_concat = pd.concat(df_uni, axis=1)\n",
        "\n",
        "#left join dengan value dari dataframe yang awal\n",
        "unnested_df = df_concat.join(name_df.drop(['knownForTitles'], 1), how='left')\n",
        "\n",
        "#select kolom sesuai dengan dataframe awal\n",
        "unnested_df = unnested_df[name_df.columns.tolist()]\n",
        "print(unnested_df)"
      ],
      "metadata": {
        "colab": {
          "base_uri": "https://localhost:8080/"
        },
        "id": "s_wUy6RmAUTX",
        "outputId": "646b4bf5-ac6d-4e3e-8ea1-e8014074083c"
      },
      "execution_count": 12,
      "outputs": [
        {
          "output_type": "stream",
          "name": "stdout",
          "text": [
            "         nconst        primaryName knownForTitles\n",
            "0     nm1774132  Nathan McLaughlin      tt0417686\n",
            "0     nm1774132  Nathan McLaughlin      tt1713976\n",
            "0     nm1774132  Nathan McLaughlin      tt1891860\n",
            "0     nm1774132  Nathan McLaughlin      tt0454839\n",
            "1    nm10683464      Bridge Andrew      tt7718088\n",
            "..          ...                ...            ...\n",
            "998   nm5245804      Eliza Jenkins      tt1464058\n",
            "999   nm0948460         Greg Yolen      tt0436869\n",
            "999   nm0948460         Greg Yolen      tt0476663\n",
            "999   nm0948460         Greg Yolen      tt0109723\n",
            "999   nm0948460         Greg Yolen      tt0364484\n",
            "\n",
            "[1918 rows x 3 columns]\n"
          ]
        },
        {
          "output_type": "stream",
          "name": "stderr",
          "text": [
            "/usr/local/lib/python3.7/dist-packages/ipykernel_launcher.py:22: FutureWarning: In a future version of pandas all arguments of DataFrame.drop except for the argument 'labels' will be keyword-only\n"
          ]
        }
      ]
    },
    {
      "cell_type": "markdown",
      "source": [
        "## pengelompokkan"
      ],
      "metadata": {
        "id": "5L-aDOMgdZci"
      }
    },
    {
      "cell_type": "markdown",
      "source": [
        "Mengelompokkan primaryName menjadi list group by knownForTitles\n",
        "Selanjutnya, kita akan melakukan grouping kembali pada kolom player karena yang kita inginkan adalah level movie untuk melakukan movie recommendation"
      ],
      "metadata": {
        "id": "C0IbUO-l7zJe"
      }
    },
    {
      "cell_type": "code",
      "source": [
        "unnested_drop = unnested_df.drop(['nconst'], axis=1)\n",
        "#menyiapkan bucket untuk dataframe\n",
        "df_uni = []\n",
        "for col in ['primaryName']:\n",
        "    #agregasi kolom PrimaryName sesuai group_col yang sudah di define di atas\n",
        "    dfi = unnested_drop.groupby(['knownForTitles'])[col].apply(list)\n",
        "    #Lakukan append\n",
        "    df_uni.append(dfi)\n",
        "df_grouped = pd.concat(df_uni, axis=1).reset_index()\n",
        "df_grouped.columns = ['knownForTitles','cast_name']\n",
        "print(df_grouped)\n"
      ],
      "metadata": {
        "colab": {
          "base_uri": "https://localhost:8080/"
        },
        "id": "EVKPXGV77w52",
        "outputId": "d292c465-7f68-44c3-f2b6-e60a69904e8f"
      },
      "execution_count": 13,
      "outputs": [
        {
          "output_type": "stream",
          "name": "stdout",
          "text": [
            "     knownForTitles           cast_name\n",
            "0         tt0008125    [Charles Harley]\n",
            "1         tt0009706    [Charles Harley]\n",
            "2         tt0010304  [Natalie Talmadge]\n",
            "3         tt0011414  [Natalie Talmadge]\n",
            "4         tt0011890  [Natalie Talmadge]\n",
            "...             ...                 ...\n",
            "1893      tt9610496  [Stefano Baffetti]\n",
            "1894      tt9714030        [Kevin Kain]\n",
            "1895      tt9741820   [Caroline Plyler]\n",
            "1896      tt9759814     [Ethan Francis]\n",
            "1897      tt9856236     [Nuala Maguire]\n",
            "\n",
            "[1898 rows x 2 columns]\n"
          ]
        }
      ]
    },
    {
      "cell_type": "markdown",
      "source": [
        "Mengelompokkan primaryName menjadi list group by knownForTitles\n",
        "Selanjutnya, kita akan melakukan grouping kembali pada kolom player karena yang kita inginkan adalah level movie untuk melakukan movie recommendation"
      ],
      "metadata": {
        "id": "OXGDILloAwJb"
      }
    },
    {
      "cell_type": "markdown",
      "source": [
        "## join table"
      ],
      "metadata": {
        "id": "22uPdk_gdlrh"
      }
    },
    {
      "cell_type": "markdown",
      "source": [
        "JOIN TABLE\n",
        "- movie table dan cast table\n",
        "- base_df dan director_writer table"
      ],
      "metadata": {
        "id": "IsvcYNfEj_qA"
      }
    },
    {
      "cell_type": "code",
      "source": [
        "#join antara movie table dan cast table \n",
        "base_df = pd.merge(df_grouped, movie_rating_df, left_on='knownForTitles', right_on='tconst', how='inner')\n",
        "#join antara base_df dengan director_writer table\n",
        "base_df = pd.merge(base_df, director_writers, left_on='tconst', right_on='tconst', how='left')\n",
        "print(base_df.head())"
      ],
      "metadata": {
        "colab": {
          "base_uri": "https://localhost:8080/"
        },
        "id": "vdNa85wY7ssH",
        "outputId": "dc191386-570d-4d4a-dd0f-85b029af0a10"
      },
      "execution_count": 14,
      "outputs": [
        {
          "output_type": "stream",
          "name": "stdout",
          "text": [
            "  knownForTitles           cast_name     tconst titleType  \\\n",
            "0      tt0011414  [Natalie Talmadge]  tt0011414     movie   \n",
            "1      tt0011890  [Natalie Talmadge]  tt0011890     movie   \n",
            "2      tt0014341  [Natalie Talmadge]  tt0014341     movie   \n",
            "3      tt0018054     [Reeka Roberts]  tt0018054     movie   \n",
            "4      tt0024151     [James Hackett]  tt0024151     movie   \n",
            "\n",
            "             primaryTitle           originalTitle  isAdult  startYear  \\\n",
            "0         The Love Expert         The Love Expert        0     1920.0   \n",
            "1               Yes or No               Yes or No        0     1920.0   \n",
            "2         Our Hospitality         Our Hospitality        0     1923.0   \n",
            "3       The King of Kings       The King of Kings        0     1927.0   \n",
            "4  I Cover the Waterfront  I Cover the Waterfront        0     1933.0   \n",
            "\n",
            "   endYear  runtimeMinutes                   genres  averageRating  numVotes  \\\n",
            "0      NaN            60.0           Comedy,Romance            4.9       136   \n",
            "1      NaN            72.0                      NaN            6.3         7   \n",
            "2      NaN            65.0  Comedy,Romance,Thriller            7.8      9621   \n",
            "3      NaN           155.0  Biography,Drama,History            7.3      1826   \n",
            "4      NaN            80.0            Drama,Romance            6.3       455   \n",
            "\n",
            "                       director_name  \\\n",
            "0                   [David Kirkland]   \n",
            "1                [Roy William Neill]   \n",
            "2  [Buster Keaton, John G. Blystone]   \n",
            "3                 [Cecil B. DeMille]   \n",
            "4                      [James Cruze]   \n",
            "\n",
            "                                         writer_name  \n",
            "0                         [John Emerson, Anita Loos]  \n",
            "1   [Arthur F. Goodrich, Burns Mantle, Mary Murillo]  \n",
            "2  [Jean C. Havez, Clyde Bruckman, Joseph A. Mitc...  \n",
            "3                                [Jeanie Macpherson]  \n",
            "4               [Max Miller, Wells Root, Jack Jevne]  \n"
          ]
        }
      ]
    },
    {
      "cell_type": "markdown",
      "source": [
        "## cleaning data"
      ],
      "metadata": {
        "id": "dBV4luU6dqIR"
      }
    },
    {
      "cell_type": "markdown",
      "source": [
        "Setelah melakukan join table sebelumnya, sekarang hal yang akan kembali kita lakukan adalah melakukan cleaning pada data yang sudah dihasilkan."
      ],
      "metadata": {
        "id": "XgBVkrYv8y5_"
      }
    },
    {
      "cell_type": "code",
      "source": [
        "#Melakukan drop terhadap kolom knownForTitles\n",
        "base_drop = base_df.drop(['knownForTitles'], axis=1)\n",
        "print(base_drop.info())\n",
        "\n",
        "#Mengganti nilai NULL pada kolom genres dengan 'Unknown'\n",
        "base_drop['genres'] = base_drop['genres'].fillna('Unknown')\n",
        "\n",
        "#Melakukan perhitungan jumlah nilai NULL pada tiap kolom\n",
        "print(base_drop.isnull().sum())\n",
        "\n",
        "#Mengganti nilai NULL pada kolom dorector_name dan writer_name dengan 'Unknown'\n",
        "base_drop[['director_name','writer_name']] = base_drop[['director_name','writer_name']].fillna('unknown')\n",
        "\n",
        "#karena value kolom genres terdapat multiple values, jadi kita akan bungkus menjadi list of list\n",
        "base_drop['genres'] = base_drop['genres'].apply(lambda x: x.split(','))"
      ],
      "metadata": {
        "colab": {
          "base_uri": "https://localhost:8080/"
        },
        "id": "Ms9OMMBA8w5u",
        "outputId": "cc0e434b-383b-43ea-e761-60b05a08ff0d"
      },
      "execution_count": 15,
      "outputs": [
        {
          "output_type": "stream",
          "name": "stdout",
          "text": [
            "<class 'pandas.core.frame.DataFrame'>\n",
            "Int64Index: 1060 entries, 0 to 1059\n",
            "Data columns (total 14 columns):\n",
            " #   Column          Non-Null Count  Dtype  \n",
            "---  ------          --------------  -----  \n",
            " 0   cast_name       1060 non-null   object \n",
            " 1   tconst          1060 non-null   object \n",
            " 2   titleType       1060 non-null   object \n",
            " 3   primaryTitle    1060 non-null   object \n",
            " 4   originalTitle   1060 non-null   object \n",
            " 5   isAdult         1060 non-null   int64  \n",
            " 6   startYear       1060 non-null   float64\n",
            " 7   endYear         110 non-null    float64\n",
            " 8   runtimeMinutes  1060 non-null   float64\n",
            " 9   genres          745 non-null    object \n",
            " 10  averageRating   1060 non-null   float64\n",
            " 11  numVotes        1060 non-null   int64  \n",
            " 12  director_name   986 non-null    object \n",
            " 13  writer_name     986 non-null    object \n",
            "dtypes: float64(4), int64(2), object(8)\n",
            "memory usage: 124.2+ KB\n",
            "None\n",
            "cast_name           0\n",
            "tconst              0\n",
            "titleType           0\n",
            "primaryTitle        0\n",
            "originalTitle       0\n",
            "isAdult             0\n",
            "startYear           0\n",
            "endYear           950\n",
            "runtimeMinutes      0\n",
            "genres              0\n",
            "averageRating       0\n",
            "numVotes            0\n",
            "director_name      74\n",
            "writer_name        74\n",
            "dtype: int64\n"
          ]
        }
      ]
    },
    {
      "cell_type": "markdown",
      "source": [
        "## reformat table base_df"
      ],
      "metadata": {
        "id": "03QRAnCadvGd"
      }
    },
    {
      "cell_type": "markdown",
      "source": [
        "Hal selanjutnya yang akan kita lakukan adalah melakukan reformat pada table base_df yang beberapa kolomnya sudah didrop.\n",
        "\n",
        "Petunjuk: \n",
        "\n",
        "Rename-lah kolom berikut:\n",
        "\n",
        "primaryTitle -> title\n",
        "titleType -> type\n",
        "startYear -> start\n",
        "runtimeMinutes -> duration\n",
        "averageRating -> rating\n",
        "numVotes -> votes"
      ],
      "metadata": {
        "id": "ShTDYLkY83NU"
      }
    },
    {
      "cell_type": "code",
      "source": [
        "#drop kolom tconsr, isAdult, endYear, originalTitle\n",
        "base_drop2 = base_drop.drop(['tconst','isAdult','endYear','originalTitle'], axis=1)\n",
        "base_drop2 = base_drop2 = base_drop2[['primaryTitle','titleType','startYear','runtimeMinutes','genres','averageRating','numVotes','cast_name','director_name','writer_name']]\n",
        "\n",
        "base_drop2.columns = ['title','type','start','duration','genres','rating','votes','cast_name','director_name','writer_name']\n",
        "print(base_drop2.head())"
      ],
      "metadata": {
        "colab": {
          "base_uri": "https://localhost:8080/"
        },
        "id": "zeKrCpFY838_",
        "outputId": "8cae3512-9f2e-426b-da4e-1032bc77b5ca"
      },
      "execution_count": 16,
      "outputs": [
        {
          "output_type": "stream",
          "name": "stdout",
          "text": [
            "                    title   type   start  duration  \\\n",
            "0         The Love Expert  movie  1920.0      60.0   \n",
            "1               Yes or No  movie  1920.0      72.0   \n",
            "2         Our Hospitality  movie  1923.0      65.0   \n",
            "3       The King of Kings  movie  1927.0     155.0   \n",
            "4  I Cover the Waterfront  movie  1933.0      80.0   \n",
            "\n",
            "                        genres  rating  votes           cast_name  \\\n",
            "0            [Comedy, Romance]     4.9    136  [Natalie Talmadge]   \n",
            "1                    [Unknown]     6.3      7  [Natalie Talmadge]   \n",
            "2  [Comedy, Romance, Thriller]     7.8   9621  [Natalie Talmadge]   \n",
            "3  [Biography, Drama, History]     7.3   1826     [Reeka Roberts]   \n",
            "4             [Drama, Romance]     6.3    455     [James Hackett]   \n",
            "\n",
            "                       director_name  \\\n",
            "0                   [David Kirkland]   \n",
            "1                [Roy William Neill]   \n",
            "2  [Buster Keaton, John G. Blystone]   \n",
            "3                 [Cecil B. DeMille]   \n",
            "4                      [James Cruze]   \n",
            "\n",
            "                                         writer_name  \n",
            "0                         [John Emerson, Anita Loos]  \n",
            "1   [Arthur F. Goodrich, Burns Mantle, Mary Murillo]  \n",
            "2  [Jean C. Havez, Clyde Bruckman, Joseph A. Mitc...  \n",
            "3                                [Jeanie Macpherson]  \n",
            "4               [Max Miller, Wells Root, Jack Jevne]  \n"
          ]
        }
      ]
    },
    {
      "cell_type": "markdown",
      "source": [
        "klasifikasikan berdasarkan metadata genres, primaryName (cast name), director name, dan writer_name"
      ],
      "metadata": {
        "id": "DRiMuowk-rvV"
      }
    },
    {
      "cell_type": "code",
      "source": [
        "feature_df = base_drop2[['title','cast_name','genres','director_name','writer_name']]\n",
        "feature_df.head()"
      ],
      "metadata": {
        "colab": {
          "base_uri": "https://localhost:8080/",
          "height": 354
        },
        "id": "czTAZ_pb-sf-",
        "outputId": "5271d8f3-4621-485f-e3fe-507b87a57336"
      },
      "execution_count": 17,
      "outputs": [
        {
          "output_type": "execute_result",
          "data": {
            "text/plain": [
              "                    title           cast_name                       genres  \\\n",
              "0         The Love Expert  [Natalie Talmadge]            [Comedy, Romance]   \n",
              "1               Yes or No  [Natalie Talmadge]                    [Unknown]   \n",
              "2         Our Hospitality  [Natalie Talmadge]  [Comedy, Romance, Thriller]   \n",
              "3       The King of Kings     [Reeka Roberts]  [Biography, Drama, History]   \n",
              "4  I Cover the Waterfront     [James Hackett]             [Drama, Romance]   \n",
              "\n",
              "                       director_name  \\\n",
              "0                   [David Kirkland]   \n",
              "1                [Roy William Neill]   \n",
              "2  [Buster Keaton, John G. Blystone]   \n",
              "3                 [Cecil B. DeMille]   \n",
              "4                      [James Cruze]   \n",
              "\n",
              "                                         writer_name  \n",
              "0                         [John Emerson, Anita Loos]  \n",
              "1   [Arthur F. Goodrich, Burns Mantle, Mary Murillo]  \n",
              "2  [Jean C. Havez, Clyde Bruckman, Joseph A. Mitc...  \n",
              "3                                [Jeanie Macpherson]  \n",
              "4               [Max Miller, Wells Root, Jack Jevne]  "
            ],
            "text/html": [
              "\n",
              "  <div id=\"df-750f0c2d-e03f-4b98-9059-fdb0567a5fb5\">\n",
              "    <div class=\"colab-df-container\">\n",
              "      <div>\n",
              "<style scoped>\n",
              "    .dataframe tbody tr th:only-of-type {\n",
              "        vertical-align: middle;\n",
              "    }\n",
              "\n",
              "    .dataframe tbody tr th {\n",
              "        vertical-align: top;\n",
              "    }\n",
              "\n",
              "    .dataframe thead th {\n",
              "        text-align: right;\n",
              "    }\n",
              "</style>\n",
              "<table border=\"1\" class=\"dataframe\">\n",
              "  <thead>\n",
              "    <tr style=\"text-align: right;\">\n",
              "      <th></th>\n",
              "      <th>title</th>\n",
              "      <th>cast_name</th>\n",
              "      <th>genres</th>\n",
              "      <th>director_name</th>\n",
              "      <th>writer_name</th>\n",
              "    </tr>\n",
              "  </thead>\n",
              "  <tbody>\n",
              "    <tr>\n",
              "      <th>0</th>\n",
              "      <td>The Love Expert</td>\n",
              "      <td>[Natalie Talmadge]</td>\n",
              "      <td>[Comedy, Romance]</td>\n",
              "      <td>[David Kirkland]</td>\n",
              "      <td>[John Emerson, Anita Loos]</td>\n",
              "    </tr>\n",
              "    <tr>\n",
              "      <th>1</th>\n",
              "      <td>Yes or No</td>\n",
              "      <td>[Natalie Talmadge]</td>\n",
              "      <td>[Unknown]</td>\n",
              "      <td>[Roy William Neill]</td>\n",
              "      <td>[Arthur F. Goodrich, Burns Mantle, Mary Murillo]</td>\n",
              "    </tr>\n",
              "    <tr>\n",
              "      <th>2</th>\n",
              "      <td>Our Hospitality</td>\n",
              "      <td>[Natalie Talmadge]</td>\n",
              "      <td>[Comedy, Romance, Thriller]</td>\n",
              "      <td>[Buster Keaton, John G. Blystone]</td>\n",
              "      <td>[Jean C. Havez, Clyde Bruckman, Joseph A. Mitc...</td>\n",
              "    </tr>\n",
              "    <tr>\n",
              "      <th>3</th>\n",
              "      <td>The King of Kings</td>\n",
              "      <td>[Reeka Roberts]</td>\n",
              "      <td>[Biography, Drama, History]</td>\n",
              "      <td>[Cecil B. DeMille]</td>\n",
              "      <td>[Jeanie Macpherson]</td>\n",
              "    </tr>\n",
              "    <tr>\n",
              "      <th>4</th>\n",
              "      <td>I Cover the Waterfront</td>\n",
              "      <td>[James Hackett]</td>\n",
              "      <td>[Drama, Romance]</td>\n",
              "      <td>[James Cruze]</td>\n",
              "      <td>[Max Miller, Wells Root, Jack Jevne]</td>\n",
              "    </tr>\n",
              "  </tbody>\n",
              "</table>\n",
              "</div>\n",
              "      <button class=\"colab-df-convert\" onclick=\"convertToInteractive('df-750f0c2d-e03f-4b98-9059-fdb0567a5fb5')\"\n",
              "              title=\"Convert this dataframe to an interactive table.\"\n",
              "              style=\"display:none;\">\n",
              "        \n",
              "  <svg xmlns=\"http://www.w3.org/2000/svg\" height=\"24px\"viewBox=\"0 0 24 24\"\n",
              "       width=\"24px\">\n",
              "    <path d=\"M0 0h24v24H0V0z\" fill=\"none\"/>\n",
              "    <path d=\"M18.56 5.44l.94 2.06.94-2.06 2.06-.94-2.06-.94-.94-2.06-.94 2.06-2.06.94zm-11 1L8.5 8.5l.94-2.06 2.06-.94-2.06-.94L8.5 2.5l-.94 2.06-2.06.94zm10 10l.94 2.06.94-2.06 2.06-.94-2.06-.94-.94-2.06-.94 2.06-2.06.94z\"/><path d=\"M17.41 7.96l-1.37-1.37c-.4-.4-.92-.59-1.43-.59-.52 0-1.04.2-1.43.59L10.3 9.45l-7.72 7.72c-.78.78-.78 2.05 0 2.83L4 21.41c.39.39.9.59 1.41.59.51 0 1.02-.2 1.41-.59l7.78-7.78 2.81-2.81c.8-.78.8-2.07 0-2.86zM5.41 20L4 18.59l7.72-7.72 1.47 1.35L5.41 20z\"/>\n",
              "  </svg>\n",
              "      </button>\n",
              "      \n",
              "  <style>\n",
              "    .colab-df-container {\n",
              "      display:flex;\n",
              "      flex-wrap:wrap;\n",
              "      gap: 12px;\n",
              "    }\n",
              "\n",
              "    .colab-df-convert {\n",
              "      background-color: #E8F0FE;\n",
              "      border: none;\n",
              "      border-radius: 50%;\n",
              "      cursor: pointer;\n",
              "      display: none;\n",
              "      fill: #1967D2;\n",
              "      height: 32px;\n",
              "      padding: 0 0 0 0;\n",
              "      width: 32px;\n",
              "    }\n",
              "\n",
              "    .colab-df-convert:hover {\n",
              "      background-color: #E2EBFA;\n",
              "      box-shadow: 0px 1px 2px rgba(60, 64, 67, 0.3), 0px 1px 3px 1px rgba(60, 64, 67, 0.15);\n",
              "      fill: #174EA6;\n",
              "    }\n",
              "\n",
              "    [theme=dark] .colab-df-convert {\n",
              "      background-color: #3B4455;\n",
              "      fill: #D2E3FC;\n",
              "    }\n",
              "\n",
              "    [theme=dark] .colab-df-convert:hover {\n",
              "      background-color: #434B5C;\n",
              "      box-shadow: 0px 1px 3px 1px rgba(0, 0, 0, 0.15);\n",
              "      filter: drop-shadow(0px 1px 2px rgba(0, 0, 0, 0.3));\n",
              "      fill: #FFFFFF;\n",
              "    }\n",
              "  </style>\n",
              "\n",
              "      <script>\n",
              "        const buttonEl =\n",
              "          document.querySelector('#df-750f0c2d-e03f-4b98-9059-fdb0567a5fb5 button.colab-df-convert');\n",
              "        buttonEl.style.display =\n",
              "          google.colab.kernel.accessAllowed ? 'block' : 'none';\n",
              "\n",
              "        async function convertToInteractive(key) {\n",
              "          const element = document.querySelector('#df-750f0c2d-e03f-4b98-9059-fdb0567a5fb5');\n",
              "          const dataTable =\n",
              "            await google.colab.kernel.invokeFunction('convertToInteractive',\n",
              "                                                     [key], {});\n",
              "          if (!dataTable) return;\n",
              "\n",
              "          const docLinkHtml = 'Like what you see? Visit the ' +\n",
              "            '<a target=\"_blank\" href=https://colab.research.google.com/notebooks/data_table.ipynb>data table notebook</a>'\n",
              "            + ' to learn more about interactive tables.';\n",
              "          element.innerHTML = '';\n",
              "          dataTable['output_type'] = 'display_data';\n",
              "          await google.colab.output.renderOutput(dataTable, element);\n",
              "          const docLink = document.createElement('div');\n",
              "          docLink.innerHTML = docLinkHtml;\n",
              "          element.appendChild(docLink);\n",
              "        }\n",
              "      </script>\n",
              "    </div>\n",
              "  </div>\n",
              "  "
            ]
          },
          "metadata": {},
          "execution_count": 17
        }
      ]
    },
    {
      "cell_type": "markdown",
      "source": [
        "# Question"
      ],
      "metadata": {
        "id": "x_auOFcmeBGh"
      }
    },
    {
      "cell_type": "markdown",
      "source": [
        "##1"
      ],
      "metadata": {
        "id": "-C4uIG_SeFzL"
      }
    },
    {
      "cell_type": "markdown",
      "source": [
        "Bagaimana cara membuat fungsi untuk strip spaces dari setiap row dan setiap elemennya?"
      ],
      "metadata": {
        "id": "GnTunvOvDtEJ"
      }
    },
    {
      "cell_type": "code",
      "source": [
        "def sanitize(x):\n",
        "    try:\n",
        "        #kalau cell berisi list\n",
        "        if isinstance(x,list):\n",
        "            return [i.replace(' ','').lower() for i in x]\n",
        "        #kalau cell berisi string\n",
        "        else:\n",
        "            return [x.replace(' ','').lower()]\n",
        "    except:\n",
        "        print(x)\n",
        "        \n",
        "#Kolom : cast_name, genres, writer_name, director_name        \n",
        "feature_cols = ['cast_name','genres','writer_name','director_name']\n",
        "\n",
        "#Apply function sanitize \n",
        "for col in feature_cols:\n",
        "    feature_df[col] = feature_df[col].apply(sanitize)"
      ],
      "metadata": {
        "colab": {
          "base_uri": "https://localhost:8080/"
        },
        "id": "FLS8MfamDudL",
        "outputId": "03a35ca7-95ff-4a34-fbd8-3be268162ae6"
      },
      "execution_count": 18,
      "outputs": [
        {
          "output_type": "stream",
          "name": "stderr",
          "text": [
            "/usr/local/lib/python3.7/dist-packages/ipykernel_launcher.py:17: SettingWithCopyWarning: \n",
            "A value is trying to be set on a copy of a slice from a DataFrame.\n",
            "Try using .loc[row_indexer,col_indexer] = value instead\n",
            "\n",
            "See the caveats in the documentation: https://pandas.pydata.org/pandas-docs/stable/user_guide/indexing.html#returning-a-view-versus-a-copy\n"
          ]
        }
      ]
    },
    {
      "cell_type": "markdown",
      "source": [
        "##2"
      ],
      "metadata": {
        "id": "2AqzHYnLeH2p"
      }
    },
    {
      "cell_type": "markdown",
      "source": [
        "cara membuat fungsi untuk membuat metadata soup (menggabungkan semua feature menjadi 1 bagian kalimat) untuk setiap judulnya?\n"
      ],
      "metadata": {
        "id": "RPi0obVOEOqT"
      }
    },
    {
      "cell_type": "code",
      "source": [
        "#kolom yang digunakan : cast_name, genres, director_name, writer_name\n",
        "def soup_feature(x):\n",
        "    return ' '.join(x['cast_name']) + ' ' + ' '.join(x['genres']) + ' ' + ' '.join(x['director_name']) + ' ' + ' '.join(x['writer_name'])\n",
        "\n",
        "#membuat soup menjadi 1 kolom \n",
        "feature_df['soup'] = feature_df.apply(soup_feature, axis=1)\n",
        "    "
      ],
      "metadata": {
        "colab": {
          "base_uri": "https://localhost:8080/"
        },
        "id": "MLXi1TVdEPRR",
        "outputId": "994bc0ef-426d-49f5-f1ac-85a5c0ecf823"
      },
      "execution_count": 19,
      "outputs": [
        {
          "output_type": "stream",
          "name": "stderr",
          "text": [
            "/usr/local/lib/python3.7/dist-packages/ipykernel_launcher.py:6: SettingWithCopyWarning: \n",
            "A value is trying to be set on a copy of a slice from a DataFrame.\n",
            "Try using .loc[row_indexer,col_indexer] = value instead\n",
            "\n",
            "See the caveats in the documentation: https://pandas.pydata.org/pandas-docs/stable/user_guide/indexing.html#returning-a-view-versus-a-copy\n",
            "  \n"
          ]
        }
      ]
    },
    {
      "cell_type": "markdown",
      "source": [
        "##3"
      ],
      "metadata": {
        "id": "4WPK-z9reKBX"
      }
    },
    {
      "cell_type": "markdown",
      "source": [
        "Cara menyiapkan CountVectorizer (stop_words = english) dan fit dengan soup yang kita buat di atas\n",
        "\n",
        "CountVectorizer adalah tipe paling sederhana dari vectorizer. Supaya lebih mudah akan dijelaskan melalui contoh di bawah ini:\n",
        "\n",
        "bayangkan terdapat 3 text A, B, dan C, dimana text nya adalah\n",
        "\n",
        "A: The Sun is a star\n",
        "B: My Love is like a red, red rose\n",
        "C : Mary had a little lamb\n",
        "Sekarang kita harus konversi text-text ini menjadi bentuk vector menggunakan CountVectorizer. Langkah-langkahnya adalah: menghitung ukuran dari vocabulary. Vocabulary adalah jumlah dari kata unik yang ada dari text tersebut.\n",
        "\n",
        "\n",
        "Oleh sebab itu, vocabulary dari set ketiga text tersebut adalah: the, sun, is, a, star, my, love, like, red, rose, mary, had, little, lamb. Secara total, ukuran vocabulary adalah 14.\n",
        "\n",
        "\n",
        "Tetapi, biasanya kita tidak include stop words (english), seperti as, is, a, the, dan sebagainya karena itu adalah kata yang sudah common sekali.\n",
        "\n",
        "\n",
        "Dengan mengeliminasi stop words, maka clean size vocabulary kita adalah like, little, lamb, love, mary, red, rose, sun, star (sorted alphabet ascending)\n",
        "Maka, dengan menggunakan CountVectorizer, maka hasil yang kita dapatkan adalah sebagai berikut:\n",
        "\n",
        "\n",
        "A : (0,0,0,0,0,0,0,1,1), terdiri atas sun:1, star:1\n",
        "B : (1,0,0,1,0,2,1,0,0), terdiri atas like:1, love:1, red:2, rose:1\n",
        "C : (0,1,1,0,1,0,0,0,0), terdiri atas little:1, lamb:1, mary:1"
      ],
      "metadata": {
        "id": "oyjLQt-3Ex7a"
      }
    },
    {
      "cell_type": "code",
      "source": [
        "#import CountVectorizer \n",
        "from sklearn.feature_extraction.text import CountVectorizer\n",
        "\n",
        "#definisikan CountVectorizer dan mengubah soup tadi menjadi bentuk vector\n",
        "count = CountVectorizer(stop_words='english')\n",
        "count_matrix = count.fit_transform(feature_df['soup'])\n",
        "\n",
        "print(count)\n",
        "print(count_matrix.shape)"
      ],
      "metadata": {
        "colab": {
          "base_uri": "https://localhost:8080/"
        },
        "id": "i3Pkt2BsFLZH",
        "outputId": "fb2db94f-55d5-4c78-96c3-6a6c606b666b"
      },
      "execution_count": 20,
      "outputs": [
        {
          "output_type": "stream",
          "name": "stdout",
          "text": [
            "CountVectorizer(stop_words='english')\n",
            "(1060, 10026)\n"
          ]
        }
      ]
    },
    {
      "cell_type": "markdown",
      "source": [
        "##4"
      ],
      "metadata": {
        "id": "LyiIih1ueLx3"
      }
    },
    {
      "cell_type": "markdown",
      "source": [
        "Cara membuat model similarity antara count matrix\n",
        "\n",
        "Pada langkah ini, kita akan menghitung score cosine similarity dari setiap pasangan judul (berdasarkan semua kombinasi pasangan yang ada, dengan kata lain kita akan membuat 675 x 675 matrix, dimana cell di kolom i dan j menunjukkan score similarity antara judul i dan j. kita dapat dengan mudah melihat bahwa matrix ini simetris dan setiap elemen pada diagonal adalah 1, karena itu adalah similarity score dengan dirinya sendiri\n",
        "\n",
        " \n",
        "Cosine Similarity\n",
        "pada bagian ini, kita akan menggunakan formula cosine similarity untuk membuat model. Score cosine ini sangatlah berguna dan mudah untuk dihitung.\n",
        "\n",
        "formula untuk perhitungan cosine similarity antara 2 text, adalah sebagai berikut:\n",
        "\n",
        "$cosine(x,y)=\\frac{x.y^T}{||x||.||y||}$\n",
        "output yang didapat antara range -1 sampai 1. Score yang hampir mencapai 1 artinya kedua entitas tersebut sangatlah mirip sedangkan score yang hampir mencapai -1 artinya kedua entitas tersebut adalah beda"
      ],
      "metadata": {
        "id": "iYhgpP3zFkPj"
      }
    },
    {
      "cell_type": "code",
      "source": [
        "#Import cosine_similarity\n",
        "from sklearn.metrics.pairwise import cosine_similarity\n",
        "#Gunakan cosine_similarity antara count_matrix \n",
        "cosine_sim = cosine_similarity(count_matrix, count_matrix)\n",
        "#print hasilnya\n",
        "print(cosine_sim)"
      ],
      "metadata": {
        "colab": {
          "base_uri": "https://localhost:8080/"
        },
        "id": "BiDcV3M1Fpg0",
        "outputId": "04d662ae-aadb-4e8a-9961-d8da2455c0cf"
      },
      "execution_count": 21,
      "outputs": [
        {
          "output_type": "stream",
          "name": "stdout",
          "text": [
            "[[1.         0.15430335 0.35355339 ... 0.         0.         0.13608276]\n",
            " [0.15430335 1.         0.10910895 ... 0.         0.         0.        ]\n",
            " [0.35355339 0.10910895 1.         ... 0.         0.08703883 0.09622504]\n",
            " ...\n",
            " [0.         0.         0.         ... 1.         0.         0.        ]\n",
            " [0.         0.         0.08703883 ... 0.         1.         0.10050378]\n",
            " [0.13608276 0.         0.09622504 ... 0.         0.10050378 1.        ]]\n"
          ]
        }
      ]
    },
    {
      "cell_type": "markdown",
      "source": [
        "##5"
      ],
      "metadata": {
        "id": "ZPwgXVjReM4m"
      }
    },
    {
      "cell_type": "markdown",
      "source": [
        "Cara membuat content based recommender system\n"
      ],
      "metadata": {
        "id": "T90sKEHMGR2W"
      }
    },
    {
      "cell_type": "code",
      "source": [
        "indices = pd.Series(feature_df.index, index=feature_df['title']).drop_duplicates()\n",
        "\n",
        "def content_recommender(title):\n",
        "    #mendapatkan index dari judul film (title) yang disebutkan\n",
        "    idx = indices[title]\n",
        "\n",
        "    #menjadikan list dari array similarity cosine sim \n",
        "    #hint: cosine_sim[idx]\n",
        "    sim_scores = list(enumerate(cosine_sim[idx]))\n",
        "\n",
        "    #mengurutkan film dari similarity tertinggi ke terendah\n",
        "    sim_scores = sorted(sim_scores,key=lambda x: x[1],reverse=True)\n",
        "\n",
        "    #untuk mendapatkan list judul dari item kedua sampe ke 11\n",
        "    sim_scores = sim_scores[1:11]\n",
        "\n",
        "    #mendapatkan index dari judul-judul yang muncul di sim_scores\n",
        "    movie_indices = [i[0] for i in sim_scores]\n",
        "\n",
        "    #dengan menggunakan iloc, kita bisa panggil balik berdasarkan index dari movie_indices\n",
        "    return base_df.iloc[movie_indices]\n",
        "\n",
        "#aplikasikan function di atas\n",
        "print(content_recommender('The Lion King'))\n",
        "\n"
      ],
      "metadata": {
        "colab": {
          "base_uri": "https://localhost:8080/"
        },
        "id": "G8TCzhVhGQmh",
        "outputId": "d9f8e506-dbd5-461f-c072-adc72b5cc6f8"
      },
      "execution_count": 22,
      "outputs": [
        {
          "output_type": "stream",
          "name": "stdout",
          "text": [
            "     knownForTitles                   cast_name      tconst titleType  \\\n",
            "848       tt3040964  [Cristina Carrión Márquez]   tt3040964     movie   \n",
            "383       tt0286336          [Francisco Bretas]   tt0286336  tvSeries   \n",
            "1002      tt7222086          [Hiroki Matsukawa]   tt7222086  tvSeries   \n",
            "73        tt0075147             [Joaquín Parra]   tt0075147     movie   \n",
            "232       tt0119051            [Chris Kosloski]   tt0119051     movie   \n",
            "556      tt10068158          [Hiroki Matsukawa]  tt10068158     movie   \n",
            "9         tt0028657            [Bernard Loftus]   tt0028657     movie   \n",
            "191       tt0107875               [Simon Mayal]   tt0107875     movie   \n",
            "803       tt2356464               [Sina Müller]   tt2356464     movie   \n",
            "983       tt6270328                   [Jo Boag]   tt6270328  tvSeries   \n",
            "\n",
            "                                         primaryTitle  \\\n",
            "848                                   The Jungle Book   \n",
            "383                      The Animals of Farthing Wood   \n",
            "1002                                    Made in Abyss   \n",
            "73                                   Robin and Marian   \n",
            "232                                          The Edge   \n",
            "556                     Made in Abyss: Journey's Dawn   \n",
            "9                               Boss of Lonely Valley   \n",
            "191                       The Princess and the Goblin   \n",
            "803                                           Ostwind   \n",
            "983   The Skinner Boys: Guardians of the Lost Secrets   \n",
            "\n",
            "                                        originalTitle  isAdult  startYear  \\\n",
            "848                                   The Jungle Book        0     2016.0   \n",
            "383                      The Animals of Farthing Wood        0     1993.0   \n",
            "1002                                    Made in Abyss        0     2017.0   \n",
            "73                                   Robin and Marian        0     1976.0   \n",
            "232                                          The Edge        0     1997.0   \n",
            "556                 Made in Abyss: Tabidachi no Yoake        0     2019.0   \n",
            "9                               Boss of Lonely Valley        0     1937.0   \n",
            "191                       The Princess and the Goblin        0     1991.0   \n",
            "803                                           Ostwind        0     2013.0   \n",
            "983   The Skinner Boys: Guardians of the Lost Secrets        0     2014.0   \n",
            "\n",
            "      endYear  runtimeMinutes                       genres  averageRating  \\\n",
            "848       NaN           106.0       Adventure,Drama,Family            7.4   \n",
            "383    1995.0            25.0    Adventure,Animation,Drama            8.3   \n",
            "1002      NaN           325.0    Adventure,Animation,Drama            8.4   \n",
            "73        NaN           106.0      Adventure,Drama,Romance            6.5   \n",
            "232       NaN           117.0       Action,Adventure,Drama            6.9   \n",
            "556       NaN           139.0  Adventure,Animation,Fantasy            7.4   \n",
            "9         NaN            60.0       Action,Adventure,Drama            6.2   \n",
            "191       NaN            82.0   Adventure,Animation,Comedy            6.8   \n",
            "803       NaN           101.0       Adventure,Drama,Family            6.8   \n",
            "983       NaN            23.0    Adventure,Animation,Drama            7.8   \n",
            "\n",
            "      numVotes                                      director_name  \\\n",
            "848     250994                                      [Jon Favreau]   \n",
            "383       3057             [Elphin Lloyd-Jones, Philippe Leclerc]   \n",
            "1002      4577  [Masayuki Kojima, Hitoshi Haga, Shinya Iino, T...   \n",
            "73       10830                                   [Richard Lester]   \n",
            "232      65673                                     [Lee Tamahori]   \n",
            "556         81                                  [Masayuki Kojima]   \n",
            "9           41                                       [Ray Taylor]   \n",
            "191       2350                                     [József Gémes]   \n",
            "803       1350                                [Katja von Garnier]   \n",
            "983         12        [Pablo De La Torre, Eugene Linkov, Jo Boag]   \n",
            "\n",
            "                                            writer_name  \n",
            "848                     [Justin Marks, Rudyard Kipling]  \n",
            "383   [Valerie Georgeson, Colin Dann, Jenny McDade, ...  \n",
            "1002  [Akihito Tsukushi, Keigo Koyanagi, Hideyuki Ku...  \n",
            "73                                      [James Goldman]  \n",
            "232                                       [David Mamet]  \n",
            "556                                  [Akihito Tsukushi]  \n",
            "9                       [Frances Guihan, Forrest Brown]  \n",
            "191                     [Robin Lyons, George MacDonald]  \n",
            "803          [Kristina Magdalena Henn, Lea Schmidbauer]  \n",
            "983   [David Witt, John Derevlany, David Evans, Pete...  \n"
          ]
        }
      ]
    }
  ]
}